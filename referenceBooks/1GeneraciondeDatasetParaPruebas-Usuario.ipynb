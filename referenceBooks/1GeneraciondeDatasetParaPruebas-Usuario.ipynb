{
 "cells": [
  {
   "cell_type": "markdown",
   "metadata": {},
   "source": [
    "lumoslumoslumos ctisur paswrd"
   ]
  },
  {
   "cell_type": "markdown",
   "metadata": {},
   "source": [
    "Importo Librerias, uso Twython"
   ]
  },
  {
   "cell_type": "code",
   "execution_count": 2,
   "metadata": {},
   "outputs": [],
   "source": [
    "# General:\n",
    "import tweepy           # To consume Twitter's API\n",
    "import pandas as pd     # To handle data\n",
    "import numpy as np      # For number computing\n",
    "\n",
    "# Paravisualizacion\n",
    "from IPython.display import display\n",
    "import matplotlib.pyplot as plt\n",
    "import seaborn as sns\n",
    "%matplotlib inline"
   ]
  },
  {
   "cell_type": "markdown",
   "metadata": {},
   "source": [
    "Acceso a la aplicacion de twitter"
   ]
  },
  {
   "cell_type": "code",
   "execution_count": 3,
   "metadata": {},
   "outputs": [
    {
     "ename": "ModuleNotFoundError",
     "evalue": "No module named 'credenciales'",
     "output_type": "error",
     "traceback": [
      "\u001b[0;31m---------------------------------------------------------------------------\u001b[0m",
      "\u001b[0;31mModuleNotFoundError\u001b[0m                       Traceback (most recent call last)",
      "\u001b[0;32m<ipython-input-3-df799f47b612>\u001b[0m in \u001b[0;36m<module>\u001b[0;34m()\u001b[0m\n\u001b[1;32m      1\u001b[0m \u001b[0;31m# Importamos las credenciales\u001b[0m\u001b[0;34m\u001b[0m\u001b[0;34m\u001b[0m\u001b[0m\n\u001b[0;32m----> 2\u001b[0;31m \u001b[0;32mfrom\u001b[0m \u001b[0mcredenciales\u001b[0m \u001b[0;32mimport\u001b[0m \u001b[0;34m*\u001b[0m\u001b[0;34m\u001b[0m\u001b[0m\n\u001b[0m\u001b[1;32m      3\u001b[0m \u001b[0;34m\u001b[0m\u001b[0m\n\u001b[1;32m      4\u001b[0m \u001b[0;31m# Usamos el API de twitter\u001b[0m\u001b[0;34m\u001b[0m\u001b[0;34m\u001b[0m\u001b[0m\n\u001b[1;32m      5\u001b[0m \u001b[0;32mdef\u001b[0m \u001b[0mtwitter_setup\u001b[0m\u001b[0;34m(\u001b[0m\u001b[0;34m)\u001b[0m\u001b[0;34m:\u001b[0m\u001b[0;34m\u001b[0m\u001b[0m\n",
      "\u001b[0;31mModuleNotFoundError\u001b[0m: No module named 'credenciales'"
     ]
    }
   ],
   "source": [
    "# Importamos las credenciales\n",
    "from credenciales import *    \n",
    "\n",
    "# Usamos el API de twitter\n",
    "def twitter_setup():\n",
    "    \"\"\"\n",
    "    Utility function to setup the Twitter's API\n",
    "    with our access keys provided.\n",
    "    \"\"\"\n",
    "    # Autenticación y acceso\n",
    "    auth = tweepy.OAuthHandler(CONSUMER_KEY, CONSUMER_SECRET)\n",
    "    auth.set_access_token(ACCESS_TOKEN, ACCESS_SECRET)\n",
    "\n",
    "    #API con autenticación\n",
    "    api = tweepy.API(auth)\n",
    "    return api"
   ]
  },
  {
   "cell_type": "markdown",
   "metadata": {},
   "source": [
    "Extraccion de datos"
   ]
  },
  {
   "cell_type": "code",
   "execution_count": 1,
   "metadata": {},
   "outputs": [
    {
     "ename": "NameError",
     "evalue": "name 'twitter_setup' is not defined",
     "output_type": "error",
     "traceback": [
      "\u001b[0;31m---------------------------------------------------------------------------\u001b[0m",
      "\u001b[0;31mNameError\u001b[0m                                 Traceback (most recent call last)",
      "\u001b[0;32m<ipython-input-1-7db89ae34324>\u001b[0m in \u001b[0;36m<module>\u001b[0;34m()\u001b[0m\n\u001b[1;32m      1\u001b[0m \u001b[0;31m# Se crea un extractor\u001b[0m\u001b[0;34m\u001b[0m\u001b[0;34m\u001b[0m\u001b[0m\n\u001b[0;32m----> 2\u001b[0;31m \u001b[0mextractor\u001b[0m \u001b[0;34m=\u001b[0m \u001b[0mtwitter_setup\u001b[0m\u001b[0;34m(\u001b[0m\u001b[0;34m)\u001b[0m\u001b[0;34m\u001b[0m\u001b[0m\n\u001b[0m\u001b[1;32m      3\u001b[0m \u001b[0;31m# Se crea la lista de tweets a extraer\u001b[0m\u001b[0;34m\u001b[0m\u001b[0;34m\u001b[0m\u001b[0m\n\u001b[1;32m      4\u001b[0m \u001b[0mtweets\u001b[0m \u001b[0;34m=\u001b[0m \u001b[0mextractor\u001b[0m\u001b[0;34m.\u001b[0m\u001b[0muser_timeline\u001b[0m\u001b[0;34m(\u001b[0m\u001b[0muser_id\u001b[0m\u001b[0;34m=\u001b[0m\u001b[0;34m\"MEMEOPERU\"\u001b[0m\u001b[0;34m,\u001b[0m \u001b[0mcount\u001b[0m\u001b[0;34m=\u001b[0m\u001b[0;36m200\u001b[0m\u001b[0;34m)\u001b[0m\u001b[0;34m\u001b[0m\u001b[0m\n\u001b[1;32m      5\u001b[0m \u001b[0mprint\u001b[0m\u001b[0;34m(\u001b[0m\u001b[0;34m\"Number of tweets extracted: {}.\\n\"\u001b[0m\u001b[0;34m.\u001b[0m\u001b[0mformat\u001b[0m\u001b[0;34m(\u001b[0m\u001b[0mlen\u001b[0m\u001b[0;34m(\u001b[0m\u001b[0mtweets\u001b[0m\u001b[0;34m)\u001b[0m\u001b[0;34m)\u001b[0m\u001b[0;34m)\u001b[0m\u001b[0;34m\u001b[0m\u001b[0m\n",
      "\u001b[0;31mNameError\u001b[0m: name 'twitter_setup' is not defined"
     ]
    }
   ],
   "source": [
    "# Se crea un extractor\n",
    "extractor = twitter_setup()\n",
    "# Se crea la lista de tweets a extraer\n",
    "tweets = extractor.user_timeline(user_id=\"MEMEOPERU\", count=200)\n",
    "print(\"Number of tweets extracted: {}.\\n\".format(len(tweets)))\n",
    "\n",
    "# Impresion de 5 tweets, como ejemplo\n",
    "print(\"5 ultimos tweets:\\n\")\n",
    "for tweet in tweets[:5]:\n",
    "    print(tweet.text)\n",
    "    print()"
   ]
  },
  {
   "cell_type": "code",
   "execution_count": 4,
   "metadata": {},
   "outputs": [
    {
     "data": {
      "text/html": [
       "<div>\n",
       "<style scoped>\n",
       "    .dataframe tbody tr th:only-of-type {\n",
       "        vertical-align: middle;\n",
       "    }\n",
       "\n",
       "    .dataframe tbody tr th {\n",
       "        vertical-align: top;\n",
       "    }\n",
       "\n",
       "    .dataframe thead th {\n",
       "        text-align: right;\n",
       "    }\n",
       "</style>\n",
       "<table border=\"1\" class=\"dataframe\">\n",
       "  <thead>\n",
       "    <tr style=\"text-align: right;\">\n",
       "      <th></th>\n",
       "      <th>Tweets</th>\n",
       "    </tr>\n",
       "  </thead>\n",
       "  <tbody>\n",
       "    <tr>\n",
       "      <th>0</th>\n",
       "      <td>RT @GiullianaLoza: Cuando finalmente se eleva ...</td>\n",
       "    </tr>\n",
       "    <tr>\n",
       "      <th>1</th>\n",
       "      <td>RT @GiullianaLoza: Quiero informar a la opinió...</td>\n",
       "    </tr>\n",
       "    <tr>\n",
       "      <th>2</th>\n",
       "      <td>Sigamos con fe en el camino de la unidad porqu...</td>\n",
       "    </tr>\n",
       "    <tr>\n",
       "      <th>3</th>\n",
       "      <td>En medio de estas circunstancias tan difíciles...</td>\n",
       "    </tr>\n",
       "    <tr>\n",
       "      <th>4</th>\n",
       "      <td>p. KF: Llevo ya más de un mes en prisión a la ...</td>\n",
       "    </tr>\n",
       "    <tr>\n",
       "      <th>5</th>\n",
       "      <td>Pero no solo me denigró a mí, lo hizo con toda...</td>\n",
       "    </tr>\n",
       "    <tr>\n",
       "      <th>6</th>\n",
       "      <td>p. Keiko Fujimori: Agradezco profundamente las...</td>\n",
       "    </tr>\n",
       "    <tr>\n",
       "      <th>7</th>\n",
       "      <td>RT @RedesKeiko: Mariella Balbi: El fiscal del ...</td>\n",
       "    </tr>\n",
       "    <tr>\n",
       "      <th>8</th>\n",
       "      <td>RT @GiullianaLoza: Desvirtuamos uno a uno los ...</td>\n",
       "    </tr>\n",
       "    <tr>\n",
       "      <th>9</th>\n",
       "      <td>RT @GiullianaLoza: Caso #MarkVito. Acabamos de...</td>\n",
       "    </tr>\n",
       "  </tbody>\n",
       "</table>\n",
       "</div>"
      ],
      "text/plain": [
       "                                              Tweets\n",
       "0  RT @GiullianaLoza: Cuando finalmente se eleva ...\n",
       "1  RT @GiullianaLoza: Quiero informar a la opinió...\n",
       "2  Sigamos con fe en el camino de la unidad porqu...\n",
       "3  En medio de estas circunstancias tan difíciles...\n",
       "4  p. KF: Llevo ya más de un mes en prisión a la ...\n",
       "5  Pero no solo me denigró a mí, lo hizo con toda...\n",
       "6  p. Keiko Fujimori: Agradezco profundamente las...\n",
       "7  RT @RedesKeiko: Mariella Balbi: El fiscal del ...\n",
       "8  RT @GiullianaLoza: Desvirtuamos uno a uno los ...\n",
       "9  RT @GiullianaLoza: Caso #MarkVito. Acabamos de..."
      ]
     },
     "metadata": {},
     "output_type": "display_data"
    }
   ],
   "source": [
    "# Se crea un dataframe:\n",
    "data = pd.DataFrame(data=[tweet.text for tweet in tweets], columns=['Tweets'])\n",
    "\n",
    "# Se muestra 10 filas\n",
    "display(data.head(10))"
   ]
  },
  {
   "cell_type": "code",
   "execution_count": 5,
   "metadata": {},
   "outputs": [
    {
     "name": "stdout",
     "output_type": "stream",
     "text": [
      "['__class__', '__delattr__', '__dict__', '__dir__', '__doc__', '__eq__', '__format__', '__ge__', '__getattribute__', '__getstate__', '__gt__', '__hash__', '__init__', '__init_subclass__', '__le__', '__lt__', '__module__', '__ne__', '__new__', '__reduce__', '__reduce_ex__', '__repr__', '__setattr__', '__sizeof__', '__str__', '__subclasshook__', '__weakref__', '_api', '_json', 'author', 'contributors', 'coordinates', 'created_at', 'destroy', 'entities', 'favorite', 'favorite_count', 'favorited', 'geo', 'id', 'id_str', 'in_reply_to_screen_name', 'in_reply_to_status_id', 'in_reply_to_status_id_str', 'in_reply_to_user_id', 'in_reply_to_user_id_str', 'is_quote_status', 'lang', 'parse', 'parse_list', 'place', 'retweet', 'retweet_count', 'retweeted', 'retweeted_status', 'retweets', 'source', 'source_url', 'text', 'truncated', 'user']\n"
     ]
    }
   ],
   "source": [
    "# Metodos internos en un tweet simple\n",
    "print(dir(tweets[0]))"
   ]
  },
  {
   "cell_type": "code",
   "execution_count": 6,
   "metadata": {},
   "outputs": [
    {
     "name": "stdout",
     "output_type": "stream",
     "text": [
      "1070120341668810753\n",
      "2018-12-05 00:59:05\n",
      "Twitter for iPhone\n",
      "0\n",
      "710\n",
      "None\n",
      "None\n",
      "{'hashtags': [], 'symbols': [], 'user_mentions': [{'screen_name': 'GiullianaLoza', 'name': 'Giulliana Loza', 'id': 1003350317352804352, 'id_str': '1003350317352804352', 'indices': [3, 17]}], 'urls': []}\n"
     ]
    }
   ],
   "source": [
    "# Informacion de los tweets recolectados, del tweet0\n",
    "print(tweets[0].id)\n",
    "print(tweets[0].created_at)\n",
    "print(tweets[0].source)\n",
    "print(tweets[0].favorite_count)\n",
    "print(tweets[0].retweet_count)\n",
    "print(tweets[0].geo)\n",
    "print(tweets[0].coordinates)\n",
    "print(tweets[0].entities)\n"
   ]
  },
  {
   "cell_type": "code",
   "execution_count": 7,
   "metadata": {},
   "outputs": [],
   "source": [
    "# Se añade columnas, para obtener un dataset basico\n",
    "data['len']  = np.array([len(tweet.text) for tweet in tweets])\n",
    "data['ID']   = np.array([tweet.id for tweet in tweets])\n",
    "data['Date'] = np.array([tweet.created_at for tweet in tweets])\n",
    "data['Source'] = np.array([tweet.source for tweet in tweets])\n",
    "data['Likes']  = np.array([tweet.favorite_count for tweet in tweets])\n",
    "data['RTs']    = np.array([tweet.retweet_count for tweet in tweets]) \n"
   ]
  },
  {
   "cell_type": "code",
   "execution_count": 8,
   "metadata": {},
   "outputs": [
    {
     "data": {
      "text/html": [
       "<div>\n",
       "<style scoped>\n",
       "    .dataframe tbody tr th:only-of-type {\n",
       "        vertical-align: middle;\n",
       "    }\n",
       "\n",
       "    .dataframe tbody tr th {\n",
       "        vertical-align: top;\n",
       "    }\n",
       "\n",
       "    .dataframe thead th {\n",
       "        text-align: right;\n",
       "    }\n",
       "</style>\n",
       "<table border=\"1\" class=\"dataframe\">\n",
       "  <thead>\n",
       "    <tr style=\"text-align: right;\">\n",
       "      <th></th>\n",
       "      <th>Tweets</th>\n",
       "      <th>len</th>\n",
       "      <th>ID</th>\n",
       "      <th>Date</th>\n",
       "      <th>Source</th>\n",
       "      <th>Likes</th>\n",
       "      <th>RTs</th>\n",
       "    </tr>\n",
       "  </thead>\n",
       "  <tbody>\n",
       "    <tr>\n",
       "      <th>0</th>\n",
       "      <td>RT @GiullianaLoza: Cuando finalmente se eleva ...</td>\n",
       "      <td>140</td>\n",
       "      <td>1070120341668810753</td>\n",
       "      <td>2018-12-05 00:59:05</td>\n",
       "      <td>Twitter for iPhone</td>\n",
       "      <td>0</td>\n",
       "      <td>710</td>\n",
       "    </tr>\n",
       "    <tr>\n",
       "      <th>1</th>\n",
       "      <td>RT @GiullianaLoza: Quiero informar a la opinió...</td>\n",
       "      <td>140</td>\n",
       "      <td>1070120269690351617</td>\n",
       "      <td>2018-12-05 00:58:48</td>\n",
       "      <td>Twitter for iPhone</td>\n",
       "      <td>0</td>\n",
       "      <td>612</td>\n",
       "    </tr>\n",
       "    <tr>\n",
       "      <th>2</th>\n",
       "      <td>Sigamos con fe en el camino de la unidad porqu...</td>\n",
       "      <td>140</td>\n",
       "      <td>1069302601856901120</td>\n",
       "      <td>2018-12-02 18:49:41</td>\n",
       "      <td>Twitter for iPhone</td>\n",
       "      <td>2159</td>\n",
       "      <td>635</td>\n",
       "    </tr>\n",
       "    <tr>\n",
       "      <th>3</th>\n",
       "      <td>En medio de estas circunstancias tan difíciles...</td>\n",
       "      <td>140</td>\n",
       "      <td>1069302492091998208</td>\n",
       "      <td>2018-12-02 18:49:15</td>\n",
       "      <td>Twitter for iPhone</td>\n",
       "      <td>1579</td>\n",
       "      <td>491</td>\n",
       "    </tr>\n",
       "    <tr>\n",
       "      <th>4</th>\n",
       "      <td>p. KF: Llevo ya más de un mes en prisión a la ...</td>\n",
       "      <td>140</td>\n",
       "      <td>1069302377683943425</td>\n",
       "      <td>2018-12-02 18:48:48</td>\n",
       "      <td>Twitter for iPhone</td>\n",
       "      <td>1861</td>\n",
       "      <td>664</td>\n",
       "    </tr>\n",
       "    <tr>\n",
       "      <th>5</th>\n",
       "      <td>Pero no solo me denigró a mí, lo hizo con toda...</td>\n",
       "      <td>139</td>\n",
       "      <td>1068222376981262336</td>\n",
       "      <td>2018-11-29 19:17:15</td>\n",
       "      <td>Twitter Web Client</td>\n",
       "      <td>2126</td>\n",
       "      <td>670</td>\n",
       "    </tr>\n",
       "    <tr>\n",
       "      <th>6</th>\n",
       "      <td>p. Keiko Fujimori: Agradezco profundamente las...</td>\n",
       "      <td>140</td>\n",
       "      <td>1068222375848759296</td>\n",
       "      <td>2018-11-29 19:17:15</td>\n",
       "      <td>Twitter Web Client</td>\n",
       "      <td>2747</td>\n",
       "      <td>763</td>\n",
       "    </tr>\n",
       "    <tr>\n",
       "      <th>7</th>\n",
       "      <td>RT @RedesKeiko: Mariella Balbi: El fiscal del ...</td>\n",
       "      <td>140</td>\n",
       "      <td>1067946683919589376</td>\n",
       "      <td>2018-11-29 01:01:45</td>\n",
       "      <td>Twitter for iPhone</td>\n",
       "      <td>0</td>\n",
       "      <td>358</td>\n",
       "    </tr>\n",
       "    <tr>\n",
       "      <th>8</th>\n",
       "      <td>RT @GiullianaLoza: Desvirtuamos uno a uno los ...</td>\n",
       "      <td>140</td>\n",
       "      <td>1067587690852491264</td>\n",
       "      <td>2018-11-28 01:15:14</td>\n",
       "      <td>Twitter for iPhone</td>\n",
       "      <td>0</td>\n",
       "      <td>566</td>\n",
       "    </tr>\n",
       "    <tr>\n",
       "      <th>9</th>\n",
       "      <td>RT @GiullianaLoza: Caso #MarkVito. Acabamos de...</td>\n",
       "      <td>140</td>\n",
       "      <td>1067560508662996992</td>\n",
       "      <td>2018-11-27 23:27:14</td>\n",
       "      <td>Twitter for iPhone</td>\n",
       "      <td>0</td>\n",
       "      <td>495</td>\n",
       "    </tr>\n",
       "  </tbody>\n",
       "</table>\n",
       "</div>"
      ],
      "text/plain": [
       "                                              Tweets  len  \\\n",
       "0  RT @GiullianaLoza: Cuando finalmente se eleva ...  140   \n",
       "1  RT @GiullianaLoza: Quiero informar a la opinió...  140   \n",
       "2  Sigamos con fe en el camino de la unidad porqu...  140   \n",
       "3  En medio de estas circunstancias tan difíciles...  140   \n",
       "4  p. KF: Llevo ya más de un mes en prisión a la ...  140   \n",
       "5  Pero no solo me denigró a mí, lo hizo con toda...  139   \n",
       "6  p. Keiko Fujimori: Agradezco profundamente las...  140   \n",
       "7  RT @RedesKeiko: Mariella Balbi: El fiscal del ...  140   \n",
       "8  RT @GiullianaLoza: Desvirtuamos uno a uno los ...  140   \n",
       "9  RT @GiullianaLoza: Caso #MarkVito. Acabamos de...  140   \n",
       "\n",
       "                    ID                Date              Source  Likes  RTs  \n",
       "0  1070120341668810753 2018-12-05 00:59:05  Twitter for iPhone      0  710  \n",
       "1  1070120269690351617 2018-12-05 00:58:48  Twitter for iPhone      0  612  \n",
       "2  1069302601856901120 2018-12-02 18:49:41  Twitter for iPhone   2159  635  \n",
       "3  1069302492091998208 2018-12-02 18:49:15  Twitter for iPhone   1579  491  \n",
       "4  1069302377683943425 2018-12-02 18:48:48  Twitter for iPhone   1861  664  \n",
       "5  1068222376981262336 2018-11-29 19:17:15  Twitter Web Client   2126  670  \n",
       "6  1068222375848759296 2018-11-29 19:17:15  Twitter Web Client   2747  763  \n",
       "7  1067946683919589376 2018-11-29 01:01:45  Twitter for iPhone      0  358  \n",
       "8  1067587690852491264 2018-11-28 01:15:14  Twitter for iPhone      0  566  \n",
       "9  1067560508662996992 2018-11-27 23:27:14  Twitter for iPhone      0  495  "
      ]
     },
     "metadata": {},
     "output_type": "display_data"
    }
   ],
   "source": [
    "# Se muestra el dataset creado\n",
    "display(data.head(10))"
   ]
  },
  {
   "cell_type": "code",
   "execution_count": 9,
   "metadata": {},
   "outputs": [],
   "source": [
    "data.to_csv('keikoUsuario.csv')  #guardo los resultados en un csv"
   ]
  },
  {
   "cell_type": "code",
   "execution_count": 13,
   "metadata": {},
   "outputs": [],
   "source": [
    "data2 = data"
   ]
  },
  {
   "cell_type": "code",
   "execution_count": 14,
   "metadata": {},
   "outputs": [
    {
     "data": {
      "text/plain": [
       "['Tweets', 'len', 'ID', 'Date', 'Source', 'Likes', 'RTs']"
      ]
     },
     "execution_count": 14,
     "metadata": {},
     "output_type": "execute_result"
    }
   ],
   "source": [
    "#Creo un nuevo dataset para usarlos con tass\n",
    "data2.columns.tolist()"
   ]
  },
  {
   "cell_type": "code",
   "execution_count": 16,
   "metadata": {},
   "outputs": [
    {
     "name": "stderr",
     "output_type": "stream",
     "text": [
      "C:\\Users\\Ferdinand\\Anaconda3\\lib\\site-packages\\pandas\\core\\frame.py:3778: SettingWithCopyWarning: \n",
      "A value is trying to be set on a copy of a slice from a DataFrame\n",
      "\n",
      "See the caveats in the documentation: http://pandas.pydata.org/pandas-docs/stable/indexing.html#indexing-view-versus-copy\n",
      "  return super(DataFrame, self).rename(**kwargs)\n"
     ]
    },
    {
     "data": {
      "text/html": [
       "<div>\n",
       "<style scoped>\n",
       "    .dataframe tbody tr th:only-of-type {\n",
       "        vertical-align: middle;\n",
       "    }\n",
       "\n",
       "    .dataframe tbody tr th {\n",
       "        vertical-align: top;\n",
       "    }\n",
       "\n",
       "    .dataframe thead th {\n",
       "        text-align: right;\n",
       "    }\n",
       "</style>\n",
       "<table border=\"1\" class=\"dataframe\">\n",
       "  <thead>\n",
       "    <tr style=\"text-align: right;\">\n",
       "      <th></th>\n",
       "      <th>tweetid</th>\n",
       "      <th>content</th>\n",
       "    </tr>\n",
       "  </thead>\n",
       "  <tbody>\n",
       "    <tr>\n",
       "      <th>0</th>\n",
       "      <td>1070120341668810753</td>\n",
       "      <td>RT @GiullianaLoza: Cuando finalmente se eleva ...</td>\n",
       "    </tr>\n",
       "    <tr>\n",
       "      <th>1</th>\n",
       "      <td>1070120269690351617</td>\n",
       "      <td>RT @GiullianaLoza: Quiero informar a la opinió...</td>\n",
       "    </tr>\n",
       "    <tr>\n",
       "      <th>2</th>\n",
       "      <td>1069302601856901120</td>\n",
       "      <td>Sigamos con fe en el camino de la unidad porqu...</td>\n",
       "    </tr>\n",
       "    <tr>\n",
       "      <th>3</th>\n",
       "      <td>1069302492091998208</td>\n",
       "      <td>En medio de estas circunstancias tan difíciles...</td>\n",
       "    </tr>\n",
       "    <tr>\n",
       "      <th>4</th>\n",
       "      <td>1069302377683943425</td>\n",
       "      <td>p. KF: Llevo ya más de un mes en prisión a la ...</td>\n",
       "    </tr>\n",
       "  </tbody>\n",
       "</table>\n",
       "</div>"
      ],
      "text/plain": [
       "               tweetid                                            content\n",
       "0  1070120341668810753  RT @GiullianaLoza: Cuando finalmente se eleva ...\n",
       "1  1070120269690351617  RT @GiullianaLoza: Quiero informar a la opinió...\n",
       "2  1069302601856901120  Sigamos con fe en el camino de la unidad porqu...\n",
       "3  1069302492091998208  En medio de estas circunstancias tan difíciles...\n",
       "4  1069302377683943425  p. KF: Llevo ya más de un mes en prisión a la ..."
      ]
     },
     "execution_count": 16,
     "metadata": {},
     "output_type": "execute_result"
    }
   ],
   "source": [
    "dfFinal=data2[['ID','Tweets']]\n",
    "#cambio de nombre las columnas\n",
    "dfFinal.rename(columns={'ID':'tweetid','Tweets':'content'}, inplace=True)\n",
    "dfFinal.head()"
   ]
  },
  {
   "cell_type": "code",
   "execution_count": 17,
   "metadata": {},
   "outputs": [],
   "source": [
    "dfFinal.to_csv('keikoTest.csv')  #guardo los resultados en un csv"
   ]
  },
  {
   "cell_type": "code",
   "execution_count": null,
   "metadata": {},
   "outputs": [],
   "source": []
  }
 ],
 "metadata": {
  "kernelspec": {
   "display_name": "Python 3",
   "language": "python",
   "name": "python3"
  },
  "language_info": {
   "codemirror_mode": {
    "name": "ipython",
    "version": 3
   },
   "file_extension": ".py",
   "mimetype": "text/x-python",
   "name": "python",
   "nbconvert_exporter": "python",
   "pygments_lexer": "ipython3",
   "version": "3.6.4"
  }
 },
 "nbformat": 4,
 "nbformat_minor": 2
}
