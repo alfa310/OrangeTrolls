{
 "cells": [
  {
   "cell_type": "markdown",
   "metadata": {},
   "source": [
    "lumoslumoslumos ctisur paswrd"
   ]
  },
  {
   "cell_type": "markdown",
   "metadata": {},
   "source": [
    "Importo Librerias, uso Twython"
   ]
  },
  {
   "cell_type": "code",
   "execution_count": 1,
   "metadata": {},
   "outputs": [],
   "source": [
    "# Importando Twython class\n",
    "from twython import Twython  \n",
    "import json\n",
    "\n",
    "# General:\n",
    "#import tweepy           # To consume Twitter's API\n",
    "import pandas as pd     # To handle data\n",
    "import numpy as np      # For number computing\n",
    "\n",
    "# Para dibujar\n",
    "from IPython.display import display\n",
    "import matplotlib.pyplot as plt\n",
    "import seaborn as sns\n",
    "%matplotlib inline"
   ]
  },
  {
   "cell_type": "code",
   "execution_count": 2,
   "metadata": {},
   "outputs": [],
   "source": [
    "# CArga de credenciales Twitter\n",
    "with open(\"twitter_credenciales.json\", \"r\") as file:  \n",
    "    creds = json.load(file)"
   ]
  },
  {
   "cell_type": "markdown",
   "metadata": {},
   "source": [
    "Acceso a la aplicacion de twitter"
   ]
  },
  {
   "cell_type": "code",
   "execution_count": 3,
   "metadata": {},
   "outputs": [],
   "source": [
    "# Inicia la extraccion\n",
    "#El idioma  https://en.wikipedia.org/wiki/List_of_ISO_639-1_codes\n",
    "#Query https://developer.twitter.com/en/docs/tweets/search/api-reference/get-search-tweets.html\n",
    "\n",
    "python_tweets = Twython(creds['CONSUMER_KEY'], creds['CONSUMER_SECRET'])\n",
    "\n",
    "# Create our query\n",
    "query = {'q': 'keiko fujimori',  \n",
    "        'result_type': 'mixed',  #populares y recientes\n",
    "        'count': 100,  #Maximo se puede solicitar 100 tweets\n",
    "        'lang': 'es',  #en español\n",
    "        }\n"
   ]
  },
  {
   "cell_type": "markdown",
   "metadata": {},
   "source": [
    "Extraccion de datos"
   ]
  },
  {
   "cell_type": "code",
   "execution_count": 4,
   "metadata": {},
   "outputs": [
    {
     "data": {
      "text/html": [
       "<div>\n",
       "<style scoped>\n",
       "    .dataframe tbody tr th:only-of-type {\n",
       "        vertical-align: middle;\n",
       "    }\n",
       "\n",
       "    .dataframe tbody tr th {\n",
       "        vertical-align: top;\n",
       "    }\n",
       "\n",
       "    .dataframe thead th {\n",
       "        text-align: right;\n",
       "    }\n",
       "</style>\n",
       "<table border=\"1\" class=\"dataframe\">\n",
       "  <thead>\n",
       "    <tr style=\"text-align: right;\">\n",
       "      <th></th>\n",
       "      <th>id</th>\n",
       "      <th>user</th>\n",
       "      <th>date</th>\n",
       "      <th>text</th>\n",
       "      <th>favorite_count</th>\n",
       "      <th>source</th>\n",
       "      <th>retweet_count</th>\n",
       "    </tr>\n",
       "  </thead>\n",
       "  <tbody>\n",
       "    <tr>\n",
       "      <th>1</th>\n",
       "      <td>54797928</td>\n",
       "      <td>sigridbazan</td>\n",
       "      <td>Mon Nov 26 15:38:36 +0000 2018</td>\n",
       "      <td>O sea, para Jaime Yoshiyama fue más importante...</td>\n",
       "      <td>876</td>\n",
       "      <td>&lt;a href=\"https://about.twitter.com/products/tw...</td>\n",
       "      <td>180</td>\n",
       "    </tr>\n",
       "    <tr>\n",
       "      <th>0</th>\n",
       "      <td>26258791</td>\n",
       "      <td>BrunoGEsc</td>\n",
       "      <td>Mon Nov 26 18:37:03 +0000 2018</td>\n",
       "      <td>Es un éxito el etiquetado con alertas en Chile...</td>\n",
       "      <td>426</td>\n",
       "      <td>&lt;a href=\"http://twitter.com/download/android\" ...</td>\n",
       "      <td>168</td>\n",
       "    </tr>\n",
       "  </tbody>\n",
       "</table>\n",
       "</div>"
      ],
      "text/plain": [
       "         id         user                            date  \\\n",
       "1  54797928  sigridbazan  Mon Nov 26 15:38:36 +0000 2018   \n",
       "0  26258791    BrunoGEsc  Mon Nov 26 18:37:03 +0000 2018   \n",
       "\n",
       "                                                text  favorite_count  \\\n",
       "1  O sea, para Jaime Yoshiyama fue más importante...             876   \n",
       "0  Es un éxito el etiquetado con alertas en Chile...             426   \n",
       "\n",
       "                                              source  retweet_count  \n",
       "1  <a href=\"https://about.twitter.com/products/tw...            180  \n",
       "0  <a href=\"http://twitter.com/download/android\" ...            168  "
      ]
     },
     "execution_count": 4,
     "metadata": {},
     "output_type": "execute_result"
    }
   ],
   "source": [
    "#Dataset basico, con datos adicionales al user\n",
    "\n",
    "import pandas as pd\n",
    "# Busqueda en los tweets\n",
    "dict3a_ = {'id': [],'user': [], 'date': [], 'text': [], 'favorite_count': [],'source': [],'retweet_count': []}  \n",
    "for status in python_tweets.search(**query)['statuses']:  \n",
    "    dict3a_['id'].append(status['user']['id'])\n",
    "    dict3a_['user'].append(status['user']['screen_name'])\n",
    "    dict3a_['date'].append(status['created_at'])\n",
    "    dict3a_['text'].append(status['text'])\n",
    "    dict3a_['source'].append(status['source'])\n",
    "    dict3a_['retweet_count'].append(status['retweet_count'])\n",
    "    dict3a_['favorite_count'].append(status['favorite_count'])\n",
    "\n",
    "# Verifico laestructura y tamaño de la captura\n",
    "df3a = pd.DataFrame(dict3a_)  \n",
    "df3a.sort_values(by='favorite_count', inplace=True, ascending=False)  \n",
    "df3a.head(2) "
   ]
  },
  {
   "cell_type": "code",
   "execution_count": null,
   "metadata": {},
   "outputs": [],
   "source": []
  },
  {
   "cell_type": "code",
   "execution_count": 5,
   "metadata": {},
   "outputs": [
    {
     "data": {
      "text/plain": [
       "100"
      ]
     },
     "execution_count": 5,
     "metadata": {},
     "output_type": "execute_result"
    }
   ],
   "source": [
    "#Tamaño del df\n",
    "len(df3a)"
   ]
  },
  {
   "cell_type": "code",
   "execution_count": 6,
   "metadata": {},
   "outputs": [],
   "source": [
    "query = {'q': 'fuerza popular',  \n",
    "        'result_type': 'mixed',  #populares y recientes\n",
    "        'count': 100,  #Maximo se puede solicitar 100 tweets\n",
    "        'lang': 'es',  #en español\n",
    "        }\n"
   ]
  },
  {
   "cell_type": "code",
   "execution_count": 7,
   "metadata": {},
   "outputs": [
    {
     "data": {
      "text/html": [
       "<div>\n",
       "<style scoped>\n",
       "    .dataframe tbody tr th:only-of-type {\n",
       "        vertical-align: middle;\n",
       "    }\n",
       "\n",
       "    .dataframe tbody tr th {\n",
       "        vertical-align: top;\n",
       "    }\n",
       "\n",
       "    .dataframe thead th {\n",
       "        text-align: right;\n",
       "    }\n",
       "</style>\n",
       "<table border=\"1\" class=\"dataframe\">\n",
       "  <thead>\n",
       "    <tr style=\"text-align: right;\">\n",
       "      <th></th>\n",
       "      <th>id</th>\n",
       "      <th>user</th>\n",
       "      <th>date</th>\n",
       "      <th>text</th>\n",
       "      <th>favorite_count</th>\n",
       "      <th>source</th>\n",
       "      <th>retweet_count</th>\n",
       "    </tr>\n",
       "  </thead>\n",
       "  <tbody>\n",
       "    <tr>\n",
       "      <th>0</th>\n",
       "      <td>248692867</td>\n",
       "      <td>canalN_</td>\n",
       "      <td>Tue Nov 27 22:14:17 +0000 2018</td>\n",
       "      <td>[LO ÚLTIMO] Yeni Vilcatoma solicita la expulsi...</td>\n",
       "      <td>419</td>\n",
       "      <td>&lt;a href=\"https://www.hootsuite.com\" rel=\"nofol...</td>\n",
       "      <td>253</td>\n",
       "    </tr>\n",
       "    <tr>\n",
       "      <th>2</th>\n",
       "      <td>65549291</td>\n",
       "      <td>noticiAmerica</td>\n",
       "      <td>Mon Nov 26 12:36:42 +0000 2018</td>\n",
       "      <td>En enero, el rechazo a Fuerza Popular era del ...</td>\n",
       "      <td>107</td>\n",
       "      <td>&lt;a href=\"https://www.hootsuite.com\" rel=\"nofol...</td>\n",
       "      <td>36</td>\n",
       "    </tr>\n",
       "  </tbody>\n",
       "</table>\n",
       "</div>"
      ],
      "text/plain": [
       "          id           user                            date  \\\n",
       "0  248692867        canalN_  Tue Nov 27 22:14:17 +0000 2018   \n",
       "2   65549291  noticiAmerica  Mon Nov 26 12:36:42 +0000 2018   \n",
       "\n",
       "                                                text  favorite_count  \\\n",
       "0  [LO ÚLTIMO] Yeni Vilcatoma solicita la expulsi...             419   \n",
       "2  En enero, el rechazo a Fuerza Popular era del ...             107   \n",
       "\n",
       "                                              source  retweet_count  \n",
       "0  <a href=\"https://www.hootsuite.com\" rel=\"nofol...            253  \n",
       "2  <a href=\"https://www.hootsuite.com\" rel=\"nofol...             36  "
      ]
     },
     "execution_count": 7,
     "metadata": {},
     "output_type": "execute_result"
    }
   ],
   "source": [
    "dict3b_ = {'id': [],'user': [], 'date': [], 'text': [], 'favorite_count': [],'source': [],'retweet_count': []}  \n",
    "for status in python_tweets.search(**query)['statuses']:  \n",
    "    dict3b_['id'].append(status['user']['id'])\n",
    "    dict3b_['user'].append(status['user']['screen_name'])\n",
    "    dict3b_['date'].append(status['created_at'])\n",
    "    dict3b_['text'].append(status['text'])\n",
    "    dict3b_['source'].append(status['source'])\n",
    "    dict3b_['retweet_count'].append(status['retweet_count'])\n",
    "    dict3b_['favorite_count'].append(status['favorite_count'])\n",
    "\n",
    "# Verifico laestructura y tamaño de la captura\n",
    "df3b = pd.DataFrame(dict3b_)  \n",
    "df3b.sort_values(by='favorite_count', inplace=True, ascending=False)  \n",
    "df3b.head(2) "
   ]
  },
  {
   "cell_type": "code",
   "execution_count": 8,
   "metadata": {},
   "outputs": [
    {
     "data": {
      "text/plain": [
       "100"
      ]
     },
     "execution_count": 8,
     "metadata": {},
     "output_type": "execute_result"
    }
   ],
   "source": [
    "#Tamaño del df\n",
    "len(df3b)"
   ]
  },
  {
   "cell_type": "code",
   "execution_count": 9,
   "metadata": {},
   "outputs": [],
   "source": [
    "query = {'q': 'hector becerril',  \n",
    "        'result_type': 'mixed',  #populares y recientes\n",
    "        'count': 100,  #Maximo se puede solicitar 100 tweets\n",
    "        'lang': 'es',  #en español\n",
    "        }\n"
   ]
  },
  {
   "cell_type": "code",
   "execution_count": 10,
   "metadata": {},
   "outputs": [
    {
     "data": {
      "text/html": [
       "<div>\n",
       "<style scoped>\n",
       "    .dataframe tbody tr th:only-of-type {\n",
       "        vertical-align: middle;\n",
       "    }\n",
       "\n",
       "    .dataframe tbody tr th {\n",
       "        vertical-align: top;\n",
       "    }\n",
       "\n",
       "    .dataframe thead th {\n",
       "        text-align: right;\n",
       "    }\n",
       "</style>\n",
       "<table border=\"1\" class=\"dataframe\">\n",
       "  <thead>\n",
       "    <tr style=\"text-align: right;\">\n",
       "      <th></th>\n",
       "      <th>id</th>\n",
       "      <th>user</th>\n",
       "      <th>date</th>\n",
       "      <th>text</th>\n",
       "      <th>favorite_count</th>\n",
       "      <th>source</th>\n",
       "      <th>retweet_count</th>\n",
       "    </tr>\n",
       "  </thead>\n",
       "  <tbody>\n",
       "    <tr>\n",
       "      <th>0</th>\n",
       "      <td>187591611</td>\n",
       "      <td>CarlosBasombrio</td>\n",
       "      <td>Fri Nov 23 00:03:13 +0000 2018</td>\n",
       "      <td>OTRO \"PERSEGUIDO POLÍTICO\" ESTO ES UNA PLAGA\\n...</td>\n",
       "      <td>566</td>\n",
       "      <td>&lt;a href=\"http://twitter.com\" rel=\"nofollow\"&gt;Tw...</td>\n",
       "      <td>291</td>\n",
       "    </tr>\n",
       "    <tr>\n",
       "      <th>51</th>\n",
       "      <td>132768793</td>\n",
       "      <td>Lauletras</td>\n",
       "      <td>Tue Nov 27 23:02:44 +0000 2018</td>\n",
       "      <td>-no quieren levantarle la inmunidad a Edwin Do...</td>\n",
       "      <td>105</td>\n",
       "      <td>&lt;a href=\"http://twitter.com/download/iphone\" r...</td>\n",
       "      <td>47</td>\n",
       "    </tr>\n",
       "  </tbody>\n",
       "</table>\n",
       "</div>"
      ],
      "text/plain": [
       "           id             user                            date  \\\n",
       "0   187591611  CarlosBasombrio  Fri Nov 23 00:03:13 +0000 2018   \n",
       "51  132768793        Lauletras  Tue Nov 27 23:02:44 +0000 2018   \n",
       "\n",
       "                                                 text  favorite_count  \\\n",
       "0   OTRO \"PERSEGUIDO POLÍTICO\" ESTO ES UNA PLAGA\\n...             566   \n",
       "51  -no quieren levantarle la inmunidad a Edwin Do...             105   \n",
       "\n",
       "                                               source  retweet_count  \n",
       "0   <a href=\"http://twitter.com\" rel=\"nofollow\">Tw...            291  \n",
       "51  <a href=\"http://twitter.com/download/iphone\" r...             47  "
      ]
     },
     "execution_count": 10,
     "metadata": {},
     "output_type": "execute_result"
    }
   ],
   "source": [
    "dict3c_ = {'id': [],'user': [], 'date': [], 'text': [], 'favorite_count': [],'source': [],'retweet_count': []}  \n",
    "for status in python_tweets.search(**query)['statuses']:  \n",
    "    dict3c_['id'].append(status['user']['id'])\n",
    "    dict3c_['user'].append(status['user']['screen_name'])\n",
    "    dict3c_['date'].append(status['created_at'])\n",
    "    dict3c_['text'].append(status['text'])\n",
    "    dict3c_['source'].append(status['source'])\n",
    "    dict3c_['retweet_count'].append(status['retweet_count'])\n",
    "    dict3c_['favorite_count'].append(status['favorite_count'])\n",
    "\n",
    "# Verifico laestructura y tamaño de la captura\n",
    "df3c = pd.DataFrame(dict3c_)  \n",
    "df3c.sort_values(by='favorite_count', inplace=True, ascending=False)  \n",
    "df3c.head(2) "
   ]
  },
  {
   "cell_type": "code",
   "execution_count": 11,
   "metadata": {},
   "outputs": [
    {
     "data": {
      "text/plain": [
       "100"
      ]
     },
     "execution_count": 11,
     "metadata": {},
     "output_type": "execute_result"
    }
   ],
   "source": [
    "#Tamaño del df\n",
    "len(df3c)"
   ]
  },
  {
   "cell_type": "code",
   "execution_count": 12,
   "metadata": {},
   "outputs": [],
   "source": [
    "query = {'q': 'fujitroll',  \n",
    "        'result_type': 'mixed',  #populares y recientes\n",
    "        'count': 100,  #Maximo se puede solicitar 100 tweets\n",
    "        'lang': 'es',  #en español\n",
    "        }\n"
   ]
  },
  {
   "cell_type": "code",
   "execution_count": 13,
   "metadata": {},
   "outputs": [
    {
     "data": {
      "text/html": [
       "<div>\n",
       "<style scoped>\n",
       "    .dataframe tbody tr th:only-of-type {\n",
       "        vertical-align: middle;\n",
       "    }\n",
       "\n",
       "    .dataframe tbody tr th {\n",
       "        vertical-align: top;\n",
       "    }\n",
       "\n",
       "    .dataframe thead th {\n",
       "        text-align: right;\n",
       "    }\n",
       "</style>\n",
       "<table border=\"1\" class=\"dataframe\">\n",
       "  <thead>\n",
       "    <tr style=\"text-align: right;\">\n",
       "      <th></th>\n",
       "      <th>id</th>\n",
       "      <th>user</th>\n",
       "      <th>date</th>\n",
       "      <th>text</th>\n",
       "      <th>favorite_count</th>\n",
       "      <th>source</th>\n",
       "      <th>retweet_count</th>\n",
       "    </tr>\n",
       "  </thead>\n",
       "  <tbody>\n",
       "    <tr>\n",
       "      <th>30</th>\n",
       "      <td>2978793590</td>\n",
       "      <td>rataneda</td>\n",
       "      <td>Wed Nov 28 00:30:04 +0000 2018</td>\n",
       "      <td>* Feministas de @NiUnaMenosPeru condenan broma...</td>\n",
       "      <td>58</td>\n",
       "      <td>&lt;a href=\"https://mobile.twitter.com\" rel=\"nofo...</td>\n",
       "      <td>20</td>\n",
       "    </tr>\n",
       "    <tr>\n",
       "      <th>48</th>\n",
       "      <td>127946842</td>\n",
       "      <td>aspauzarazuri</td>\n",
       "      <td>Tue Nov 27 21:26:24 +0000 2018</td>\n",
       "      <td>Lourdes Alcorta tiene tanto de facha como de b...</td>\n",
       "      <td>17</td>\n",
       "      <td>&lt;a href=\"http://twitter.com\" rel=\"nofollow\"&gt;Tw...</td>\n",
       "      <td>5</td>\n",
       "    </tr>\n",
       "  </tbody>\n",
       "</table>\n",
       "</div>"
      ],
      "text/plain": [
       "            id           user                            date  \\\n",
       "30  2978793590       rataneda  Wed Nov 28 00:30:04 +0000 2018   \n",
       "48   127946842  aspauzarazuri  Tue Nov 27 21:26:24 +0000 2018   \n",
       "\n",
       "                                                 text  favorite_count  \\\n",
       "30  * Feministas de @NiUnaMenosPeru condenan broma...              58   \n",
       "48  Lourdes Alcorta tiene tanto de facha como de b...              17   \n",
       "\n",
       "                                               source  retweet_count  \n",
       "30  <a href=\"https://mobile.twitter.com\" rel=\"nofo...             20  \n",
       "48  <a href=\"http://twitter.com\" rel=\"nofollow\">Tw...              5  "
      ]
     },
     "execution_count": 13,
     "metadata": {},
     "output_type": "execute_result"
    }
   ],
   "source": [
    "dict3d_ = {'id': [],'user': [], 'date': [], 'text': [], 'favorite_count': [],'source': [],'retweet_count': []}  \n",
    "for status in python_tweets.search(**query)['statuses']:  \n",
    "    dict3d_['id'].append(status['user']['id'])\n",
    "    dict3d_['user'].append(status['user']['screen_name'])\n",
    "    dict3d_['date'].append(status['created_at'])\n",
    "    dict3d_['text'].append(status['text'])\n",
    "    dict3d_['source'].append(status['source'])\n",
    "    dict3d_['retweet_count'].append(status['retweet_count'])\n",
    "    dict3d_['favorite_count'].append(status['favorite_count'])\n",
    "\n",
    "# Verifico laestructura y tamaño de la captura\n",
    "df3d = pd.DataFrame(dict3d_)  \n",
    "df3d.sort_values(by='favorite_count', inplace=True, ascending=False)  \n",
    "df3d.head(2) "
   ]
  },
  {
   "cell_type": "code",
   "execution_count": 14,
   "metadata": {},
   "outputs": [
    {
     "data": {
      "text/plain": [
       "100"
      ]
     },
     "execution_count": 14,
     "metadata": {},
     "output_type": "execute_result"
    }
   ],
   "source": [
    "#Tamaño del df\n",
    "len(df3d)"
   ]
  },
  {
   "cell_type": "code",
   "execution_count": 15,
   "metadata": {},
   "outputs": [],
   "source": [
    "query = {'q': 'rosa bartra',  \n",
    "        'result_type': 'mixed',  #populares y recientes\n",
    "        'count': 100,  #Maximo se puede solicitar 100 tweets\n",
    "        'lang': 'es',  #en español\n",
    "        }"
   ]
  },
  {
   "cell_type": "code",
   "execution_count": 16,
   "metadata": {},
   "outputs": [
    {
     "data": {
      "text/html": [
       "<div>\n",
       "<style scoped>\n",
       "    .dataframe tbody tr th:only-of-type {\n",
       "        vertical-align: middle;\n",
       "    }\n",
       "\n",
       "    .dataframe tbody tr th {\n",
       "        vertical-align: top;\n",
       "    }\n",
       "\n",
       "    .dataframe thead th {\n",
       "        text-align: right;\n",
       "    }\n",
       "</style>\n",
       "<table border=\"1\" class=\"dataframe\">\n",
       "  <thead>\n",
       "    <tr style=\"text-align: right;\">\n",
       "      <th></th>\n",
       "      <th>id</th>\n",
       "      <th>user</th>\n",
       "      <th>date</th>\n",
       "      <th>text</th>\n",
       "      <th>favorite_count</th>\n",
       "      <th>source</th>\n",
       "      <th>retweet_count</th>\n",
       "    </tr>\n",
       "  </thead>\n",
       "  <tbody>\n",
       "    <tr>\n",
       "      <th>0</th>\n",
       "      <td>119174866</td>\n",
       "      <td>rmapalacios</td>\n",
       "      <td>Mon Nov 19 16:03:37 +0000 2018</td>\n",
       "      <td>Debe estar muy preocupada Rosa Bartra. Cuando ...</td>\n",
       "      <td>2747</td>\n",
       "      <td>&lt;a href=\"http://twitter.com\" rel=\"nofollow\"&gt;Tw...</td>\n",
       "      <td>945</td>\n",
       "    </tr>\n",
       "    <tr>\n",
       "      <th>1</th>\n",
       "      <td>54797928</td>\n",
       "      <td>sigridbazan</td>\n",
       "      <td>Mon Nov 19 20:54:22 +0000 2018</td>\n",
       "      <td>La Comisión Lava Jato de Rosa Bartra le hizo u...</td>\n",
       "      <td>675</td>\n",
       "      <td>&lt;a href=\"http://twitter.com\" rel=\"nofollow\"&gt;Tw...</td>\n",
       "      <td>288</td>\n",
       "    </tr>\n",
       "  </tbody>\n",
       "</table>\n",
       "</div>"
      ],
      "text/plain": [
       "          id         user                            date  \\\n",
       "0  119174866  rmapalacios  Mon Nov 19 16:03:37 +0000 2018   \n",
       "1   54797928  sigridbazan  Mon Nov 19 20:54:22 +0000 2018   \n",
       "\n",
       "                                                text  favorite_count  \\\n",
       "0  Debe estar muy preocupada Rosa Bartra. Cuando ...            2747   \n",
       "1  La Comisión Lava Jato de Rosa Bartra le hizo u...             675   \n",
       "\n",
       "                                              source  retweet_count  \n",
       "0  <a href=\"http://twitter.com\" rel=\"nofollow\">Tw...            945  \n",
       "1  <a href=\"http://twitter.com\" rel=\"nofollow\">Tw...            288  "
      ]
     },
     "execution_count": 16,
     "metadata": {},
     "output_type": "execute_result"
    }
   ],
   "source": [
    "dict3e_ = {'id': [],'user': [], 'date': [], 'text': [], 'favorite_count': [],'source': [],'retweet_count': []}  \n",
    "for status in python_tweets.search(**query)['statuses']:  \n",
    "    dict3e_['id'].append(status['user']['id'])\n",
    "    dict3e_['user'].append(status['user']['screen_name'])\n",
    "    dict3e_['date'].append(status['created_at'])\n",
    "    dict3e_['text'].append(status['text'])\n",
    "    dict3e_['source'].append(status['source'])\n",
    "    dict3e_['retweet_count'].append(status['retweet_count'])\n",
    "    dict3e_['favorite_count'].append(status['favorite_count'])\n",
    "\n",
    "# Verifico laestructura y tamaño de la captura\n",
    "df3e = pd.DataFrame(dict3e_)  \n",
    "df3e.sort_values(by='favorite_count', inplace=True, ascending=False)  \n",
    "df3e.head(2)  "
   ]
  },
  {
   "cell_type": "code",
   "execution_count": 17,
   "metadata": {},
   "outputs": [
    {
     "data": {
      "text/plain": [
       "100"
      ]
     },
     "execution_count": 17,
     "metadata": {},
     "output_type": "execute_result"
    }
   ],
   "source": [
    "#Tamaño del df\n",
    "len(df3e)"
   ]
  },
  {
   "cell_type": "code",
   "execution_count": 18,
   "metadata": {},
   "outputs": [],
   "source": [
    "query = {'q': 'leyla chihuan',  \n",
    "        'result_type': 'mixed',  #populares y recientes\n",
    "        'count': 100,  #Maximo se puede solicitar 100 tweets\n",
    "        'lang': 'es',  #en español\n",
    "        }"
   ]
  },
  {
   "cell_type": "code",
   "execution_count": 21,
   "metadata": {},
   "outputs": [
    {
     "data": {
      "text/html": [
       "<div>\n",
       "<style scoped>\n",
       "    .dataframe tbody tr th:only-of-type {\n",
       "        vertical-align: middle;\n",
       "    }\n",
       "\n",
       "    .dataframe tbody tr th {\n",
       "        vertical-align: top;\n",
       "    }\n",
       "\n",
       "    .dataframe thead th {\n",
       "        text-align: right;\n",
       "    }\n",
       "</style>\n",
       "<table border=\"1\" class=\"dataframe\">\n",
       "  <thead>\n",
       "    <tr style=\"text-align: right;\">\n",
       "      <th></th>\n",
       "      <th>id</th>\n",
       "      <th>user</th>\n",
       "      <th>date</th>\n",
       "      <th>text</th>\n",
       "      <th>favorite_count</th>\n",
       "      <th>source</th>\n",
       "      <th>retweet_count</th>\n",
       "    </tr>\n",
       "  </thead>\n",
       "  <tbody>\n",
       "    <tr>\n",
       "      <th>22</th>\n",
       "      <td>9075022</td>\n",
       "      <td>RPPNoticias</td>\n",
       "      <td>Tue Nov 27 11:16:32 +0000 2018</td>\n",
       "      <td>Ciudadanos de otros países usaron la expresión...</td>\n",
       "      <td>23</td>\n",
       "      <td>&lt;a href=\"https://about.twitter.com/products/tw...</td>\n",
       "      <td>7</td>\n",
       "    </tr>\n",
       "    <tr>\n",
       "      <th>67</th>\n",
       "      <td>153625642</td>\n",
       "      <td>atv_noticias</td>\n",
       "      <td>Mon Nov 26 15:57:03 +0000 2018</td>\n",
       "      <td>IPSOS: Leyla Chihuán tiene la mayor desaprobac...</td>\n",
       "      <td>18</td>\n",
       "      <td>&lt;a href=\"http://twitter.com\" rel=\"nofollow\"&gt;Tw...</td>\n",
       "      <td>3</td>\n",
       "    </tr>\n",
       "  </tbody>\n",
       "</table>\n",
       "</div>"
      ],
      "text/plain": [
       "           id          user                            date  \\\n",
       "22    9075022   RPPNoticias  Tue Nov 27 11:16:32 +0000 2018   \n",
       "67  153625642  atv_noticias  Mon Nov 26 15:57:03 +0000 2018   \n",
       "\n",
       "                                                 text  favorite_count  \\\n",
       "22  Ciudadanos de otros países usaron la expresión...              23   \n",
       "67  IPSOS: Leyla Chihuán tiene la mayor desaprobac...              18   \n",
       "\n",
       "                                               source  retweet_count  \n",
       "22  <a href=\"https://about.twitter.com/products/tw...              7  \n",
       "67  <a href=\"http://twitter.com\" rel=\"nofollow\">Tw...              3  "
      ]
     },
     "execution_count": 21,
     "metadata": {},
     "output_type": "execute_result"
    }
   ],
   "source": [
    "dict3f_ = {'id': [],'user': [], 'date': [], 'text': [], 'favorite_count': [],'source': [],'retweet_count': []}  \n",
    "for status in python_tweets.search(**query)['statuses']:  \n",
    "    dict3f_['id'].append(status['user']['id'])\n",
    "    dict3f_['user'].append(status['user']['screen_name'])\n",
    "    dict3f_['date'].append(status['created_at'])\n",
    "    dict3f_['text'].append(status['text'])\n",
    "    dict3f_['source'].append(status['source'])\n",
    "    dict3f_['retweet_count'].append(status['retweet_count'])\n",
    "    dict3f_['favorite_count'].append(status['favorite_count'])\n",
    "\n",
    "# Verifico laestructura y tamaño de la captura\n",
    "df3f = pd.DataFrame(dict3f_)  \n",
    "df3f.sort_values(by='favorite_count', inplace=True, ascending=False)  \n",
    "df3f.head(2) "
   ]
  },
  {
   "cell_type": "code",
   "execution_count": 22,
   "metadata": {},
   "outputs": [
    {
     "data": {
      "text/plain": [
       "100"
      ]
     },
     "execution_count": 22,
     "metadata": {},
     "output_type": "execute_result"
    }
   ],
   "source": [
    "#Tamaño del df\n",
    "len(df3f)"
   ]
  },
  {
   "cell_type": "code",
   "execution_count": 23,
   "metadata": {},
   "outputs": [],
   "source": [
    "query = {'q': 'Daniel Salaverry',  \n",
    "        'result_type': 'mixed',  #populares y recientes\n",
    "        'count': 100,  #Maximo se puede solicitar 100 tweets\n",
    "        'lang': 'es',  #en español\n",
    "        }\n"
   ]
  },
  {
   "cell_type": "code",
   "execution_count": 24,
   "metadata": {},
   "outputs": [
    {
     "data": {
      "text/html": [
       "<div>\n",
       "<style scoped>\n",
       "    .dataframe tbody tr th:only-of-type {\n",
       "        vertical-align: middle;\n",
       "    }\n",
       "\n",
       "    .dataframe tbody tr th {\n",
       "        vertical-align: top;\n",
       "    }\n",
       "\n",
       "    .dataframe thead th {\n",
       "        text-align: right;\n",
       "    }\n",
       "</style>\n",
       "<table border=\"1\" class=\"dataframe\">\n",
       "  <thead>\n",
       "    <tr style=\"text-align: right;\">\n",
       "      <th></th>\n",
       "      <th>id</th>\n",
       "      <th>user</th>\n",
       "      <th>date</th>\n",
       "      <th>text</th>\n",
       "      <th>favorite_count</th>\n",
       "      <th>source</th>\n",
       "      <th>retweet_count</th>\n",
       "    </tr>\n",
       "  </thead>\n",
       "  <tbody>\n",
       "    <tr>\n",
       "      <th>82</th>\n",
       "      <td>29330019</td>\n",
       "      <td>lamula</td>\n",
       "      <td>Mon Nov 26 18:05:50 +0000 2018</td>\n",
       "      <td>#Gasolinazo #Peculado\\nPresidente de la Suprem...</td>\n",
       "      <td>174</td>\n",
       "      <td>&lt;a href=\"http://twitter.com\" rel=\"nofollow\"&gt;Tw...</td>\n",
       "      <td>82</td>\n",
       "    </tr>\n",
       "    <tr>\n",
       "      <th>0</th>\n",
       "      <td>248692867</td>\n",
       "      <td>canalN_</td>\n",
       "      <td>Fri Nov 23 17:26:15 +0000 2018</td>\n",
       "      <td>[LO ÚLTIMO] Daniel Salaverry condecora a repre...</td>\n",
       "      <td>99</td>\n",
       "      <td>&lt;a href=\"https://www.hootsuite.com\" rel=\"nofol...</td>\n",
       "      <td>24</td>\n",
       "    </tr>\n",
       "  </tbody>\n",
       "</table>\n",
       "</div>"
      ],
      "text/plain": [
       "           id     user                            date  \\\n",
       "82   29330019   lamula  Mon Nov 26 18:05:50 +0000 2018   \n",
       "0   248692867  canalN_  Fri Nov 23 17:26:15 +0000 2018   \n",
       "\n",
       "                                                 text  favorite_count  \\\n",
       "82  #Gasolinazo #Peculado\\nPresidente de la Suprem...             174   \n",
       "0   [LO ÚLTIMO] Daniel Salaverry condecora a repre...              99   \n",
       "\n",
       "                                               source  retweet_count  \n",
       "82  <a href=\"http://twitter.com\" rel=\"nofollow\">Tw...             82  \n",
       "0   <a href=\"https://www.hootsuite.com\" rel=\"nofol...             24  "
      ]
     },
     "execution_count": 24,
     "metadata": {},
     "output_type": "execute_result"
    }
   ],
   "source": [
    "dict3g_ = {'id': [],'user': [], 'date': [], 'text': [], 'favorite_count': [],'source': [],'retweet_count': []}  \n",
    "for status in python_tweets.search(**query)['statuses']:  \n",
    "    dict3g_['id'].append(status['user']['id'])\n",
    "    dict3g_['user'].append(status['user']['screen_name'])\n",
    "    dict3g_['date'].append(status['created_at'])\n",
    "    dict3g_['text'].append(status['text'])\n",
    "    dict3g_['source'].append(status['source'])\n",
    "    dict3g_['retweet_count'].append(status['retweet_count'])\n",
    "    dict3g_['favorite_count'].append(status['favorite_count'])\n",
    "\n",
    "# Structure data in a pandas DataFrame for easier manipulation\n",
    "df3g = pd.DataFrame(dict3g_)  \n",
    "df3g.sort_values(by='favorite_count', inplace=True, ascending=False)  \n",
    "df3g.head(2) "
   ]
  },
  {
   "cell_type": "code",
   "execution_count": 25,
   "metadata": {},
   "outputs": [
    {
     "data": {
      "text/plain": [
       "100"
      ]
     },
     "execution_count": 25,
     "metadata": {},
     "output_type": "execute_result"
    }
   ],
   "source": [
    "#Tamaño del df\n",
    "len(df3g)"
   ]
  },
  {
   "cell_type": "code",
   "execution_count": 26,
   "metadata": {},
   "outputs": [],
   "source": [
    "query = {'q': 'alberto fujimori',  \n",
    "        'result_type': 'mixed',  #populares y recientes\n",
    "        'count': 100,  #Maximo se puede solicitar 100 tweets\n",
    "        'lang': 'es',  #en español\n",
    "        }\n"
   ]
  },
  {
   "cell_type": "code",
   "execution_count": 27,
   "metadata": {},
   "outputs": [
    {
     "data": {
      "text/html": [
       "<div>\n",
       "<style scoped>\n",
       "    .dataframe tbody tr th:only-of-type {\n",
       "        vertical-align: middle;\n",
       "    }\n",
       "\n",
       "    .dataframe tbody tr th {\n",
       "        vertical-align: top;\n",
       "    }\n",
       "\n",
       "    .dataframe thead th {\n",
       "        text-align: right;\n",
       "    }\n",
       "</style>\n",
       "<table border=\"1\" class=\"dataframe\">\n",
       "  <thead>\n",
       "    <tr style=\"text-align: right;\">\n",
       "      <th></th>\n",
       "      <th>id</th>\n",
       "      <th>user</th>\n",
       "      <th>date</th>\n",
       "      <th>text</th>\n",
       "      <th>favorite_count</th>\n",
       "      <th>source</th>\n",
       "      <th>retweet_count</th>\n",
       "    </tr>\n",
       "  </thead>\n",
       "  <tbody>\n",
       "    <tr>\n",
       "      <th>0</th>\n",
       "      <td>187591611</td>\n",
       "      <td>CarlosBasombrio</td>\n",
       "      <td>Tue Nov 20 14:31:52 +0000 2018</td>\n",
       "      <td>Los que más avergüenzan a su país son los que ...</td>\n",
       "      <td>1136</td>\n",
       "      <td>&lt;a href=\"https://about.twitter.com/products/tw...</td>\n",
       "      <td>446</td>\n",
       "    </tr>\n",
       "    <tr>\n",
       "      <th>1</th>\n",
       "      <td>187591611</td>\n",
       "      <td>CarlosBasombrio</td>\n",
       "      <td>Sun Nov 18 21:01:09 +0000 2018</td>\n",
       "      <td>Parece que Alan Garcia logrará escaparse de la...</td>\n",
       "      <td>1115</td>\n",
       "      <td>&lt;a href=\"http://twitter.com/download/android\" ...</td>\n",
       "      <td>417</td>\n",
       "    </tr>\n",
       "  </tbody>\n",
       "</table>\n",
       "</div>"
      ],
      "text/plain": [
       "          id             user                            date  \\\n",
       "0  187591611  CarlosBasombrio  Tue Nov 20 14:31:52 +0000 2018   \n",
       "1  187591611  CarlosBasombrio  Sun Nov 18 21:01:09 +0000 2018   \n",
       "\n",
       "                                                text  favorite_count  \\\n",
       "0  Los que más avergüenzan a su país son los que ...            1136   \n",
       "1  Parece que Alan Garcia logrará escaparse de la...            1115   \n",
       "\n",
       "                                              source  retweet_count  \n",
       "0  <a href=\"https://about.twitter.com/products/tw...            446  \n",
       "1  <a href=\"http://twitter.com/download/android\" ...            417  "
      ]
     },
     "execution_count": 27,
     "metadata": {},
     "output_type": "execute_result"
    }
   ],
   "source": [
    "dict3h_ = {'id': [],'user': [], 'date': [], 'text': [], 'favorite_count': [],'source': [],'retweet_count': []}  \n",
    "for status in python_tweets.search(**query)['statuses']:  \n",
    "    dict3h_['id'].append(status['user']['id'])\n",
    "    dict3h_['user'].append(status['user']['screen_name'])\n",
    "    dict3h_['date'].append(status['created_at'])\n",
    "    dict3h_['text'].append(status['text'])\n",
    "    dict3h_['source'].append(status['source'])\n",
    "    dict3h_['retweet_count'].append(status['retweet_count'])\n",
    "    dict3h_['favorite_count'].append(status['favorite_count'])\n",
    "\n",
    "# Verifico laestructura y tamaño de la captura\n",
    "df3h = pd.DataFrame(dict3h_)  \n",
    "df3h.sort_values(by='favorite_count', inplace=True, ascending=False)  \n",
    "df3h.head(2) "
   ]
  },
  {
   "cell_type": "code",
   "execution_count": 28,
   "metadata": {},
   "outputs": [
    {
     "data": {
      "text/plain": [
       "100"
      ]
     },
     "execution_count": 28,
     "metadata": {},
     "output_type": "execute_result"
    }
   ],
   "source": [
    "#Tamaño del df\n",
    "len(df3h)"
   ]
  },
  {
   "cell_type": "code",
   "execution_count": 29,
   "metadata": {},
   "outputs": [],
   "source": [
    "query = {'q': 'Luz Salgado',  \n",
    "        'result_type': 'mixed',  #populares y recientes\n",
    "        'count': 100,  #Maximo se puede solicitar 100 tweets\n",
    "        'lang': 'es',  #en español\n",
    "        }\n"
   ]
  },
  {
   "cell_type": "code",
   "execution_count": 30,
   "metadata": {},
   "outputs": [
    {
     "data": {
      "text/html": [
       "<div>\n",
       "<style scoped>\n",
       "    .dataframe tbody tr th:only-of-type {\n",
       "        vertical-align: middle;\n",
       "    }\n",
       "\n",
       "    .dataframe tbody tr th {\n",
       "        vertical-align: top;\n",
       "    }\n",
       "\n",
       "    .dataframe thead th {\n",
       "        text-align: right;\n",
       "    }\n",
       "</style>\n",
       "<table border=\"1\" class=\"dataframe\">\n",
       "  <thead>\n",
       "    <tr style=\"text-align: right;\">\n",
       "      <th></th>\n",
       "      <th>id</th>\n",
       "      <th>user</th>\n",
       "      <th>date</th>\n",
       "      <th>text</th>\n",
       "      <th>favorite_count</th>\n",
       "      <th>source</th>\n",
       "      <th>retweet_count</th>\n",
       "    </tr>\n",
       "  </thead>\n",
       "  <tbody>\n",
       "    <tr>\n",
       "      <th>0</th>\n",
       "      <td>85840608</td>\n",
       "      <td>diariocorreo</td>\n",
       "      <td>Tue Nov 27 18:33:29 +0000 2018</td>\n",
       "      <td>Luz Salgado se pronuncia por comentarios de Ca...</td>\n",
       "      <td>103</td>\n",
       "      <td>&lt;a href=\"https://about.twitter.com/products/tw...</td>\n",
       "      <td>43</td>\n",
       "    </tr>\n",
       "    <tr>\n",
       "      <th>53</th>\n",
       "      <td>3106652321</td>\n",
       "      <td>yadhira2015</td>\n",
       "      <td>Tue Nov 27 22:29:59 +0000 2018</td>\n",
       "      <td>@suriel @galdosoficial Denuncia tb a Luz Salga...</td>\n",
       "      <td>17</td>\n",
       "      <td>&lt;a href=\"http://twitter.com/download/android\" ...</td>\n",
       "      <td>1</td>\n",
       "    </tr>\n",
       "  </tbody>\n",
       "</table>\n",
       "</div>"
      ],
      "text/plain": [
       "            id          user                            date  \\\n",
       "0     85840608  diariocorreo  Tue Nov 27 18:33:29 +0000 2018   \n",
       "53  3106652321   yadhira2015  Tue Nov 27 22:29:59 +0000 2018   \n",
       "\n",
       "                                                 text  favorite_count  \\\n",
       "0   Luz Salgado se pronuncia por comentarios de Ca...             103   \n",
       "53  @suriel @galdosoficial Denuncia tb a Luz Salga...              17   \n",
       "\n",
       "                                               source  retweet_count  \n",
       "0   <a href=\"https://about.twitter.com/products/tw...             43  \n",
       "53  <a href=\"http://twitter.com/download/android\" ...              1  "
      ]
     },
     "execution_count": 30,
     "metadata": {},
     "output_type": "execute_result"
    }
   ],
   "source": [
    "dict3i_ = {'id': [],'user': [], 'date': [], 'text': [], 'favorite_count': [],'source': [],'retweet_count': []}  \n",
    "for status in python_tweets.search(**query)['statuses']:  \n",
    "    dict3i_['id'].append(status['user']['id'])\n",
    "    dict3i_['user'].append(status['user']['screen_name'])\n",
    "    dict3i_['date'].append(status['created_at'])\n",
    "    dict3i_['text'].append(status['text'])\n",
    "    dict3i_['source'].append(status['source'])\n",
    "    dict3i_['retweet_count'].append(status['retweet_count'])\n",
    "    dict3i_['favorite_count'].append(status['favorite_count'])\n",
    "\n",
    "# Verifico laestructura y tamaño de la captura\n",
    "df3i = pd.DataFrame(dict3i_)  \n",
    "df3i.sort_values(by='favorite_count', inplace=True, ascending=False)  \n",
    "df3i.head(2)  "
   ]
  },
  {
   "cell_type": "code",
   "execution_count": 31,
   "metadata": {},
   "outputs": [
    {
     "data": {
      "text/plain": [
       "100"
      ]
     },
     "execution_count": 31,
     "metadata": {},
     "output_type": "execute_result"
    }
   ],
   "source": [
    "#Tamaño del df\n",
    "len(df3i)"
   ]
  },
  {
   "cell_type": "code",
   "execution_count": 32,
   "metadata": {},
   "outputs": [
    {
     "data": {
      "text/html": [
       "<div>\n",
       "<style scoped>\n",
       "    .dataframe tbody tr th:only-of-type {\n",
       "        vertical-align: middle;\n",
       "    }\n",
       "\n",
       "    .dataframe tbody tr th {\n",
       "        vertical-align: top;\n",
       "    }\n",
       "\n",
       "    .dataframe thead th {\n",
       "        text-align: right;\n",
       "    }\n",
       "</style>\n",
       "<table border=\"1\" class=\"dataframe\">\n",
       "  <thead>\n",
       "    <tr style=\"text-align: right;\">\n",
       "      <th></th>\n",
       "      <th>id</th>\n",
       "      <th>user</th>\n",
       "      <th>date</th>\n",
       "      <th>text</th>\n",
       "      <th>favorite_count</th>\n",
       "      <th>source</th>\n",
       "      <th>retweet_count</th>\n",
       "    </tr>\n",
       "  </thead>\n",
       "  <tbody>\n",
       "    <tr>\n",
       "      <th>0</th>\n",
       "      <td>54797928</td>\n",
       "      <td>sigridbazan</td>\n",
       "      <td>Mon Nov 26 15:38:36 +0000 2018</td>\n",
       "      <td>O sea, para Jaime Yoshiyama fue más importante...</td>\n",
       "      <td>876</td>\n",
       "      <td>&lt;a href=\"https://about.twitter.com/products/tw...</td>\n",
       "      <td>180</td>\n",
       "    </tr>\n",
       "    <tr>\n",
       "      <th>1</th>\n",
       "      <td>26258791</td>\n",
       "      <td>BrunoGEsc</td>\n",
       "      <td>Mon Nov 26 18:37:03 +0000 2018</td>\n",
       "      <td>Es un éxito el etiquetado con alertas en Chile...</td>\n",
       "      <td>426</td>\n",
       "      <td>&lt;a href=\"http://twitter.com/download/android\" ...</td>\n",
       "      <td>168</td>\n",
       "    </tr>\n",
       "  </tbody>\n",
       "</table>\n",
       "</div>"
      ],
      "text/plain": [
       "         id         user                            date  \\\n",
       "0  54797928  sigridbazan  Mon Nov 26 15:38:36 +0000 2018   \n",
       "1  26258791    BrunoGEsc  Mon Nov 26 18:37:03 +0000 2018   \n",
       "\n",
       "                                                text  favorite_count  \\\n",
       "0  O sea, para Jaime Yoshiyama fue más importante...             876   \n",
       "1  Es un éxito el etiquetado con alertas en Chile...             426   \n",
       "\n",
       "                                              source  retweet_count  \n",
       "0  <a href=\"https://about.twitter.com/products/tw...            180  \n",
       "1  <a href=\"http://twitter.com/download/android\" ...            168  "
      ]
     },
     "execution_count": 32,
     "metadata": {},
     "output_type": "execute_result"
    }
   ],
   "source": [
    "frames = [df3a, df3b,df3c,df3d,df3e,df3f,df3g,df3h,df3i]\n",
    "dfMaster = pd.concat(frames, ignore_index=True)\n",
    "dfMaster.head(2)"
   ]
  },
  {
   "cell_type": "code",
   "execution_count": 33,
   "metadata": {},
   "outputs": [
    {
     "data": {
      "text/plain": [
       "900"
      ]
     },
     "execution_count": 33,
     "metadata": {},
     "output_type": "execute_result"
    }
   ],
   "source": [
    "#Tamaño del df\n",
    "len(dfMaster)"
   ]
  },
  {
   "cell_type": "code",
   "execution_count": 34,
   "metadata": {},
   "outputs": [],
   "source": [
    "#guardo los resultados en un csv\n",
    "dfMaster.to_csv('keikomaster.csv')  "
   ]
  },
  {
   "cell_type": "markdown",
   "metadata": {},
   "source": [
    "Adecuo a Dataset TASS"
   ]
  },
  {
   "cell_type": "code",
   "execution_count": 35,
   "metadata": {},
   "outputs": [],
   "source": [
    "df4 = dfMaster\n",
    "\n",
    "df4['tweetid'] = df4.id\n",
    "df4['content'] = df4.text\n"
   ]
  },
  {
   "cell_type": "code",
   "execution_count": 41,
   "metadata": {},
   "outputs": [],
   "source": [
    "#Creo el dataset test final que se exportara como cvs para la deteccion de bots\n",
    "features = ['tweetid', 'content']\n",
    "dfFinal = df4[features]"
   ]
  },
  {
   "cell_type": "code",
   "execution_count": 43,
   "metadata": {},
   "outputs": [
    {
     "data": {
      "text/html": [
       "<div>\n",
       "<style scoped>\n",
       "    .dataframe tbody tr th:only-of-type {\n",
       "        vertical-align: middle;\n",
       "    }\n",
       "\n",
       "    .dataframe tbody tr th {\n",
       "        vertical-align: top;\n",
       "    }\n",
       "\n",
       "    .dataframe thead th {\n",
       "        text-align: right;\n",
       "    }\n",
       "</style>\n",
       "<table border=\"1\" class=\"dataframe\">\n",
       "  <thead>\n",
       "    <tr style=\"text-align: right;\">\n",
       "      <th></th>\n",
       "      <th>tweetid</th>\n",
       "      <th>content</th>\n",
       "    </tr>\n",
       "  </thead>\n",
       "  <tbody>\n",
       "    <tr>\n",
       "      <th>0</th>\n",
       "      <td>54797928</td>\n",
       "      <td>O sea, para Jaime Yoshiyama fue más importante...</td>\n",
       "    </tr>\n",
       "    <tr>\n",
       "      <th>1</th>\n",
       "      <td>26258791</td>\n",
       "      <td>Es un éxito el etiquetado con alertas en Chile...</td>\n",
       "    </tr>\n",
       "  </tbody>\n",
       "</table>\n",
       "</div>"
      ],
      "text/plain": [
       "    tweetid                                            content\n",
       "0  54797928  O sea, para Jaime Yoshiyama fue más importante...\n",
       "1  26258791  Es un éxito el etiquetado con alertas en Chile..."
      ]
     },
     "execution_count": 43,
     "metadata": {},
     "output_type": "execute_result"
    }
   ],
   "source": [
    "#Visualizo los datos del df4 validando las nuevas columnas generadas\n",
    "dfFinal.head(2)"
   ]
  },
  {
   "cell_type": "code",
   "execution_count": 44,
   "metadata": {},
   "outputs": [],
   "source": [
    "#guardo los resultados en un csv\n",
    "dfFinal.to_csv('keikoTest.csv')  "
   ]
  },
  {
   "cell_type": "code",
   "execution_count": null,
   "metadata": {},
   "outputs": [],
   "source": []
  }
 ],
 "metadata": {
  "kernelspec": {
   "display_name": "Python 3",
   "language": "python",
   "name": "python3"
  },
  "language_info": {
   "codemirror_mode": {
    "name": "ipython",
    "version": 3
   },
   "file_extension": ".py",
   "mimetype": "text/x-python",
   "name": "python",
   "nbconvert_exporter": "python",
   "pygments_lexer": "ipython3",
   "version": "3.6.5"
  }
 },
 "nbformat": 4,
 "nbformat_minor": 2
}
