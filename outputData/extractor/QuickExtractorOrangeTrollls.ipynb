{
 "cells": [
  {
   "cell_type": "code",
   "execution_count": 182,
   "metadata": {},
   "outputs": [],
   "source": [
    "user_name=\"PipoHUERTA\""
   ]
  },
  {
   "cell_type": "code",
   "execution_count": 183,
   "metadata": {},
   "outputs": [],
   "source": [
    "# General:\n",
    "import tweepy           # To consume Twitter's API\n",
    "import pandas as pd     # To handle data\n",
    "import numpy as np      # For number computing\n",
    "import json\n",
    "import csv\n",
    "# Paravisualizacion\n",
    "from IPython.display import display\n",
    "import matplotlib.pyplot as plt\n",
    "import seaborn as sns\n",
    "%matplotlib inline\n",
    "\n",
    "# Usamos el API de twitter\n",
    "def twitter_setup():\n",
    "    with open(\"../../twitterKeys/json_credentials.json\", \"r\") as file:  \n",
    "        creds = json.load(file)\n",
    "        # Autenticación y acceso\n",
    "        auth = tweepy.OAuthHandler(creds['CONSUMER_KEY'], creds['CONSUMER_SECRET'])\n",
    "        auth.set_access_token(creds['ACCESS_TOKEN'], creds['ACCESS_SECRET'])\n",
    "\n",
    "        #API con autenticación\n",
    "        api = tweepy.API(auth)\n",
    "        return api"
   ]
  },
  {
   "cell_type": "code",
   "execution_count": 184,
   "metadata": {},
   "outputs": [
    {
     "name": "stdout",
     "output_type": "stream",
     "text": [
      "Number of tweets extracted: 200.\n",
      "\n"
     ]
    }
   ],
   "source": [
    "# Se crea un extractor\n",
    "extractor = twitter_setup()\n",
    "# Se crea la lista de tweets a extraer\n",
    "tweets = extractor.user_timeline(id=user_name, count=200)\n",
    "print(\"Number of tweets extracted: {}.\\n\".format(len(tweets)))"
   ]
  },
  {
   "cell_type": "code",
   "execution_count": 185,
   "metadata": {},
   "outputs": [],
   "source": [
    "# Se crea un dataframe:\n",
    "data = pd.DataFrame(data=[tweet.text for tweet in tweets], columns=['Tweets'])\n",
    "data.to_csv(user_name+'_full.csv') "
   ]
  },
  {
   "cell_type": "code",
   "execution_count": 186,
   "metadata": {},
   "outputs": [],
   "source": [
    "def removeLinks(inputItem):\n",
    "    lst=inputItem.split()\n",
    "    outputLst=[]\n",
    "    for item in lst:\n",
    "        if \"https\" not in item:\n",
    "            outputLst.append(item)\n",
    "    return \" \".join(outputLst)\n",
    "\n",
    "def ignoreSomeCharacters(item):\n",
    "    item=item.replace('\\n', ' ')\n",
    "    item=item.replace('…',' ')\n",
    "    return item \n",
    "\n",
    "def createMinFile(inputCsv,outputFilename):\n",
    "    with open(inputCsv, 'r') as f:\n",
    "        reader = csv.reader(f)\n",
    "        lst=[row[1] for row in list(reader)]\n",
    "        with open(outputFilename, 'w') as file_handler:\n",
    "            for item in lst[1:]:\n",
    "                item=ignoreSomeCharacters(item)\n",
    "                item=removeLinks(item)\n",
    "                if len(item)>0:\n",
    "                    file_handler.write(\"{}\\n\".format(item))"
   ]
  },
  {
   "cell_type": "code",
   "execution_count": 187,
   "metadata": {},
   "outputs": [],
   "source": [
    "createMinFile(user_name+'_full.csv',user_name+'_min.csv')"
   ]
  },
  {
   "cell_type": "code",
   "execution_count": null,
   "metadata": {},
   "outputs": [],
   "source": []
  }
 ],
 "metadata": {
  "kernelspec": {
   "display_name": "Python 3",
   "language": "python",
   "name": "python3"
  },
  "language_info": {
   "codemirror_mode": {
    "name": "ipython",
    "version": 3
   },
   "file_extension": ".py",
   "mimetype": "text/x-python",
   "name": "python",
   "nbconvert_exporter": "python",
   "pygments_lexer": "ipython3",
   "version": "3.6.4"
  }
 },
 "nbformat": 4,
 "nbformat_minor": 2
}
